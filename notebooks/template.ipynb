{
 "cells": [
  {
   "cell_type": "code",
   "execution_count": 22,
   "metadata": {},
   "outputs": [],
   "source": [
    "from typing import Any\n",
    "from attrs import define, field\n",
    "import numpy as np"
   ]
  },
  {
   "cell_type": "raw",
   "metadata": {
    "vscode": {
     "languageId": "raw"
    }
   },
   "source": []
  },
  {
   "cell_type": "code",
   "execution_count": 21,
   "metadata": {},
   "outputs": [],
   "source": [
    "\n",
    "\n",
    "from attrs import define, field\n",
    "\n",
    "@define\n",
    "class Flags:\n",
    "    Negative: int = field(default=0)\n",
    "    Overflow: int = field(default=0)\n",
    "    Always_Set: int = field(default=1)\n",
    "    Break: int = field(default=0)\n",
    "    Not_Used: int = field(default=0)  # Decimal mode.\n",
    "    Interrupt_Disable: int = field(default=0)\n",
    "    Zero: int = field(default=0)\n",
    "    Carry: int = field(default=0)\n",
    "\n",
    "    def print_flags(self) -> None:\n",
    "        print(\"NO_B_IZC\")\n",
    "        print(self.Negative, self.Overflow, self.Always_Set, self.Break, self.Not_Used, self.Interrupt_Disable, self.Zero, self.Carry)\n",
    "\n",
    "BIG_VALUE = 1000  # TODO: What should this be?\n",
    "MEMORY = np.array(BIG_VALUE)\n",
    "\n",
    "@define\n",
    "class Machine:\n",
    "    reg_a: int = field(default=0)  # 8 bits\n",
    "    reg_x: int = field(default=0)  # 8 bits\n",
    "    reg_y: int = field(default=4)  # 8 bits\n",
    "    \n",
    "    # Program Counter (points to next instruction to be executed)\n",
    "    reg_pc: int = field(default=0)  # 16 bits\n",
    "    \n",
    "    # Stores the stack index into which the next stack element will be written.\n",
    "    # The address of this position is $0100 + SP. SP is initially set to $FD. \n",
    "    reg_s: int = field(default=0)  # 8 bits.\n",
    "    \n",
    "    # Status flags.  Each bit represents something.  See below.\n",
    "    reg_p: int = field(default=0) # 8 bits.\n",
    "    \n",
    "    flags: Flags = field(default=Flags())\n",
    "\n",
    "    def get_value_at_addr(self, addr: Any) -> Any:\n",
    "        return 0\n",
    "\n",
    "    def _dey(self) -> None:\n",
    "        \"\"\"Decrement y by 1.\"\"\"\n",
    "        self.reg_y -= 1\n",
    "\n",
    "    def _clc(self) -> None:\n",
    "        \"\"\"Clear carry flag.\"\"\"\n",
    "        self.flags.Carry = 0\n",
    "\n",
    "    def _and(self, value: int) -> None:\n",
    "        \"\"\"AND reg_a with value, store in reg_a.\"\"\"\n",
    "        self.reg_a &= value\n",
    "\n",
    "    def _lsr_a(self) -> None:\n",
    "        \"\"\"Shift reg_a one bit right (divide by 2).\"\"\"\n",
    "        self.reg_a = self.reg_a >> 1\n",
    "    \n",
    "    def _adc(self, addr: Any) -> None:\n",
    "        \"\"\"Add Memory to Accumulator with Carry.\"\"\"\n",
    "        self.reg_a += (self.flags.Carry + self.get_value_at_addr(addr=addr))\n",
    "    def _sbc_immediate(self, value: int) -> None:\n",
    "        \"\"\"Subtract Memory from Accumulator with Borrow.\"\"\"\n",
    "        pass\n",
    "    \n",
    "        # TODO: HOW DOES THIS WORK?  A - M - C̅ -> A\n",
    "\n",
    "    def _tax(self) -> None:\n",
    "        \"Transfer Accumulator to Index X.\"\n",
    "        self.reg_x = self.reg_a  # TODO: Is reg_a cleared?\n",
    "\n",
    "m = Machine()"
   ]
  },
  {
   "cell_type": "code",
   "execution_count": 8,
   "metadata": {},
   "outputs": [
    {
     "data": {
      "text/plain": [
       "1"
      ]
     },
     "execution_count": 8,
     "metadata": {},
     "output_type": "execute_result"
    }
   ],
   "source": [
    "m._dey()\n",
    "# lda\n",
    "m._and(value=0x06)\n",
    "m._lsr_a()\n",
    "m._clc()\n",
    "m._adc(addr=0x00D8)\n",
    "m._sbc_immediate(value=0x07)\n",
    "m._tax()\n",
    "# lda\n",
    "m._clc()\n",
    "m._adc(addr=0x004B)\n",
    "# sta\n",
    "\n",
    "1 >> 0"
   ]
  },
  {
   "cell_type": "raw",
   "metadata": {
    "vscode": {
     "languageId": "raw"
    }
   },
   "source": [
    "L31D3:  dey\n",
    "        lda     (L00D2),y       # ????? Fetch address at L00D2, added to register y to get final addr.\n",
    "        and     #$06            # ANDs acc with hex value $06\n",
    "        lsr     a               # Shift a one bit right (\"Divide by 2\")\n",
    "        clc                     # Clear Carry Flag\n",
    "        adc     L00D8           # Add mem addr to acc with carry.\n",
    "        sbc     #$07            # Subtract Memory from Accumulator with Borrow\n",
    "        tax                     # Transfer Accumulator to Index X\n",
    "        lda     LB6BB,x         # Takes value at B6BB, adds to x.\n",
    "        clc                     \n",
    "        adc     L004B           \n",
    "        sta     L004B           # Store acc in memory.\n",
    "        bcc     L31EF           # ???? Branch on Carry Clear\n",
    "        inc     L004C           # Increment Memory by One\n",
    "        bne     L31EF           \n",
    "        dec     L004C           "
   ]
  },
  {
   "cell_type": "code",
   "execution_count": 18,
   "metadata": {},
   "outputs": [
    {
     "data": {
      "text/plain": [
       "3"
      ]
     },
     "execution_count": 18,
     "metadata": {},
     "output_type": "execute_result"
    }
   ],
   "source": [
    "reg_a = 15\n",
    "reg_a = reg_a >> 2\n",
    "reg_a"
   ]
  },
  {
   "cell_type": "code",
   "execution_count": null,
   "metadata": {},
   "outputs": [],
   "source": []
  }
 ],
 "metadata": {
  "kernelspec": {
   "display_name": "base",
   "language": "python",
   "name": "python3"
  },
  "language_info": {
   "codemirror_mode": {
    "name": "ipython",
    "version": 3
   },
   "file_extension": ".py",
   "mimetype": "text/x-python",
   "name": "python",
   "nbconvert_exporter": "python",
   "pygments_lexer": "ipython3",
   "version": "3.10.14"
  }
 },
 "nbformat": 4,
 "nbformat_minor": 2
}
